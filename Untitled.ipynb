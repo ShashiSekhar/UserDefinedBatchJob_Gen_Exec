{
 "cells": [
  {
   "cell_type": "code",
   "execution_count": 1,
   "metadata": {},
   "outputs": [],
   "source": [
    "from tkinter import *"
   ]
  },
  {
   "cell_type": "code",
   "execution_count": 2,
   "metadata": {},
   "outputs": [],
   "source": [
    "from traits.api import (HasTraits, Float, Instance,\n",
    "        Str, List, Bool, HasStrictTraits, Tuple, Range, TraitPrefixMap,\n",
    "        Trait)\n",
    "from apptools.scripting.api import (Recorder, recordable,\n",
    "    set_recorder)\n",
    "\n",
    "class Property(HasStrictTraits):\n",
    "    color = Tuple(Range(0.0, 1.0), Range(0.0, 1.0), Range(0.0, 1.0))\n",
    "    opacity = Range(0.0, 1.0, 1.0)\n",
    "    representation = Trait('surface',\n",
    "                           TraitPrefixMap({'surface':2,\n",
    "                                           'wireframe': 1,\n",
    "                                           'points': 0}))\n",
    "class Toy(HasTraits):\n",
    "    color = Str\n",
    "    type = Str\n",
    "    # Note the use of the trait metadata to ignore this trait.\n",
    "    ignore = Bool(False, record=False)\n",
    "\n",
    "class Child(HasTraits):\n",
    "    name = Str('child')\n",
    "    age = Float(10.0)\n",
    "    # The recorder walks through sub-instances if they are marked\n",
    "    # with record=True\n",
    "    property = Instance(Property, (), record=True)\n",
    "    toy = Instance(Toy, record=True)\n",
    "    friends = List(Str)\n",
    "\n",
    "    # The decorator records the method.\n",
    "    @recordable\n",
    "    def grow(self, x):\n",
    "        \"\"\"Increase age by x years.\"\"\"\n",
    "        self.age += x\n",
    "\n",
    "class Parent(HasTraits):\n",
    "    children = List(Child, record=True)\n",
    "    recorder = Instance(Recorder, record=False)\n",
    "\n"
   ]
  },
  {
   "cell_type": "code",
   "execution_count": 3,
   "metadata": {},
   "outputs": [],
   "source": [
    "p = Parent()\n",
    "c = Child()\n",
    "t = Toy()\n",
    "c.toy = t\n",
    "p.children.append(c)"
   ]
  },
  {
   "cell_type": "code",
   "execution_count": 6,
   "metadata": {},
   "outputs": [
    {
     "ename": "ImportError",
     "evalue": "cannot import name 'Recorder'",
     "output_type": "error",
     "traceback": [
      "\u001b[0;31m---------------------------------------------------------------------------\u001b[0m",
      "\u001b[0;31mImportError\u001b[0m                               Traceback (most recent call last)",
      "\u001b[0;32m<ipython-input-6-bf240b1eb9b1>\u001b[0m in \u001b[0;36m<module>\u001b[0;34m()\u001b[0m\n\u001b[0;32m----> 1\u001b[0;31m \u001b[0;32mfrom\u001b[0m \u001b[0mmayavi\u001b[0m \u001b[0;32mimport\u001b[0m \u001b[0mRecorder\u001b[0m\u001b[0;34m,\u001b[0m \u001b[0mset_recorder\u001b[0m\u001b[0;34m\u001b[0m\u001b[0m\n\u001b[0m\u001b[1;32m      2\u001b[0m \u001b[0;31m# Create a recorder.\u001b[0m\u001b[0;34m\u001b[0m\u001b[0;34m\u001b[0m\u001b[0m\n\u001b[1;32m      3\u001b[0m \u001b[0mr\u001b[0m \u001b[0;34m=\u001b[0m \u001b[0mRecorder\u001b[0m\u001b[0;34m(\u001b[0m\u001b[0;34m)\u001b[0m\u001b[0;34m\u001b[0m\u001b[0m\n\u001b[1;32m      4\u001b[0m \u001b[0;31m# Set the global recorder so the decorator works.\u001b[0m\u001b[0;34m\u001b[0m\u001b[0;34m\u001b[0m\u001b[0m\n\u001b[1;32m      5\u001b[0m \u001b[0mset_recorder\u001b[0m\u001b[0;34m(\u001b[0m\u001b[0mr\u001b[0m\u001b[0;34m)\u001b[0m\u001b[0;34m\u001b[0m\u001b[0m\n",
      "\u001b[0;31mImportError\u001b[0m: cannot import name 'Recorder'"
     ]
    }
   ],
   "source": [
    "from mayavi import Recorder, set_recorder\n",
    "# Create a recorder.\n",
    "r = Recorder()\n",
    "# Set the global recorder so the decorator works.\n",
    "set_recorder(r)\n",
    "r.register(p)\n",
    "r.recording = True"
   ]
  },
  {
   "cell_type": "code",
   "execution_count": null,
   "metadata": {},
   "outputs": [],
   "source": []
  }
 ],
 "metadata": {
  "kernelspec": {
   "display_name": "Python 3",
   "language": "python",
   "name": "python3"
  },
  "language_info": {
   "codemirror_mode": {
    "name": "ipython",
    "version": 3
   },
   "file_extension": ".py",
   "mimetype": "text/x-python",
   "name": "python",
   "nbconvert_exporter": "python",
   "pygments_lexer": "ipython3",
   "version": "3.6.5"
  }
 },
 "nbformat": 4,
 "nbformat_minor": 2
}
